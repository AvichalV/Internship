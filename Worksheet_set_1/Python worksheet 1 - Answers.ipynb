{
 "cells": [
  {
   "cell_type": "markdown",
   "id": "c62b74b6",
   "metadata": {},
   "source": [
    "Ans-11 : Write a python program to find the factorial of a number."
   ]
  },
  {
   "cell_type": "code",
   "execution_count": 26,
   "id": "55f3fb54",
   "metadata": {},
   "outputs": [
    {
     "name": "stdout",
     "output_type": "stream",
     "text": [
      "Enter a positive number: 5\n",
      "The factorial of given number is:  120\n"
     ]
    }
   ],
   "source": [
    "n = int(input (\"Enter a positive number: \")) # taking user input\n",
    "def fact (n): # defining a function\n",
    "    if n == 0 or n == 1:\n",
    "        return 1\n",
    "    else:\n",
    "        fact = 1 #initialising\n",
    "        while (n>1): #condition to exit loop\n",
    "            fact *= n\n",
    "            n -= 1\n",
    "        return fact\n",
    "    \n",
    "print (\"The factorial of given number is: \", fact(n)) #printing the output\n",
    "    \n",
    "    "
   ]
  },
  {
   "cell_type": "markdown",
   "id": "78cc69f9",
   "metadata": {},
   "source": [
    "Ans-12 : rite a python program to find whether a number is prime or composite."
   ]
  },
  {
   "cell_type": "code",
   "execution_count": 41,
   "id": "9c777880",
   "metadata": {},
   "outputs": [
    {
     "name": "stdout",
     "output_type": "stream",
     "text": [
      "Enter a positive number: 11\n",
      "the given number is a prime number\n"
     ]
    }
   ],
   "source": [
    "num = int(input (\"Enter a positive number: \")) # taking user input\n",
    "for i in range (2,num):\n",
    "    if num%i ==0: #logical check\n",
    "        print (\"The given number is a composite number\")\n",
    "        break\n",
    "    else:\n",
    "        print (\"the given number is a prime number\")\n",
    "        break"
   ]
  },
  {
   "cell_type": "markdown",
   "id": "9a9e6e97",
   "metadata": {},
   "source": [
    "Ans-13 : Write a python program to check whether a given string is palindrome or not"
   ]
  },
  {
   "cell_type": "code",
   "execution_count": 48,
   "id": "f2a2eaf3",
   "metadata": {},
   "outputs": [
    {
     "name": "stdout",
     "output_type": "stream",
     "text": [
      "Enter a text: acbd\n",
      "The given text is not a palindrome\n"
     ]
    }
   ],
   "source": [
    "input_string = input (\"Enter a text: \") # taking user input of a string\n",
    "reverse = lambda a:a[::-1] #using lambda function to reverse the string\n",
    "reverse_string = (reverse(input_string))\n",
    "\n",
    "\n",
    "if input_string == reverse_string: #logical check\n",
    "    print (\"The given text is a palindrome\")\n",
    "    \n",
    "else:\n",
    "    print (\"The given text is not a palindrome\")\n"
   ]
  },
  {
   "cell_type": "markdown",
   "id": "40fd5125",
   "metadata": {},
   "source": [
    "Ans-14 : Write a Python program to get the third side of right-angled triangle from two given sides"
   ]
  },
  {
   "cell_type": "code",
   "execution_count": 53,
   "id": "ee7ba984",
   "metadata": {},
   "outputs": [
    {
     "name": "stdout",
     "output_type": "stream",
     "text": [
      "Enter first side of triangle: 3\n",
      "Enter second side of triangle: 4\n",
      "The third side of triangle is:  5.0\n"
     ]
    }
   ],
   "source": [
    "import numpy as np #importing numpy library\n",
    "side1 = int(input (\"Enter first side of triangle: \")) # taking user input\n",
    "side2 = int(input (\"Enter second side of triangle: \"))\n",
    "side3 = np.sqrt((side1**2)+(side2**2)) # logical expression\n",
    "print (\"The third side of triangle is: \",side3) #printing the output"
   ]
  },
  {
   "cell_type": "markdown",
   "id": "2d771596",
   "metadata": {},
   "source": [
    "Ans-15 :  Write a python program to print the frequency of each of the characters present in a given string."
   ]
  },
  {
   "cell_type": "code",
   "execution_count": 66,
   "id": "c1559503",
   "metadata": {},
   "outputs": [
    {
     "name": "stdout",
     "output_type": "stream",
     "text": [
      "Enter a text: avichal\n",
      "The count frequency of each character is: /n{'i': 1, 'v': 1, 'l': 1, 'a': 2, 'c': 1, 'h': 1}\n"
     ]
    }
   ],
   "source": [
    "string = input (\"Enter a text: \") # taking user input of a string\n",
    "\n",
    "output_dict = { i : string.count(i) for i in set(string)}\n",
    "\n",
    "print (\"The count frequency of each character is: \" + str(output_dict))"
   ]
  },
  {
   "cell_type": "code",
   "execution_count": null,
   "id": "f73c77b5",
   "metadata": {},
   "outputs": [],
   "source": []
  }
 ],
 "metadata": {
  "kernelspec": {
   "display_name": "Python 3",
   "language": "python",
   "name": "python3"
  },
  "language_info": {
   "codemirror_mode": {
    "name": "ipython",
    "version": 3
   },
   "file_extension": ".py",
   "mimetype": "text/x-python",
   "name": "python",
   "nbconvert_exporter": "python",
   "pygments_lexer": "ipython3",
   "version": "3.8.8"
  }
 },
 "nbformat": 4,
 "nbformat_minor": 5
}
